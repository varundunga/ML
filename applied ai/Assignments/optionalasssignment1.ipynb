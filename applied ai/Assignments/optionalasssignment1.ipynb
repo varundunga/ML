{
 "cells": [
  {
   "cell_type": "code",
   "execution_count": 1,
   "metadata": {},
   "outputs": [
    {
     "name": "stdout",
     "output_type": "stream",
     "text": [
      "enter the number3\n",
      "3*1=3\n",
      "3*2=6\n",
      "3*3=9\n",
      "3*4=12\n",
      "3*5=15\n",
      "3*6=18\n",
      "3*7=21\n",
      "3*8=24\n",
      "3*9=27\n",
      "3*10=30\n"
     ]
    }
   ],
   "source": [
    "'''1. Write a function that inputs a number and prints the multiplication table of that number'''\n",
    "def mult(n):\n",
    "    '''function to print multiplication of a table upto 10'''\n",
    "    for i in range(1,11):\n",
    "        print('{0}*{1}={2}'.format(n,i,n*i))\n",
    "n=int(input('enter the number'))\n",
    "mult(n)"
   ]
  },
  {
   "cell_type": "code",
   "execution_count": 2,
   "metadata": {},
   "outputs": [
    {
     "name": "stdout",
     "output_type": "stream",
     "text": [
      "3,5\n",
      "5,7\n",
      "11,13\n",
      "17,19\n",
      "29,31\n",
      "41,43\n",
      "59,61\n",
      "71,73\n",
      "101,103\n",
      "107,109\n",
      "137,139\n",
      "149,151\n",
      "179,181\n",
      "191,193\n",
      "197,199\n",
      "227,229\n",
      "239,241\n",
      "269,271\n",
      "281,283\n",
      "311,313\n",
      "347,349\n",
      "419,421\n",
      "431,433\n",
      "461,463\n",
      "521,523\n",
      "569,571\n",
      "599,601\n",
      "617,619\n",
      "641,643\n",
      "659,661\n",
      "809,811\n",
      "821,823\n",
      "827,829\n",
      "857,859\n",
      "881,883\n"
     ]
    }
   ],
   "source": [
    "'''2. Write a program to print twin primes less than 1000. If two consecutive odd numbers are\n",
    "both prime then they are known as twin primes'''\n",
    "#we need to check numbers from 3 to 999 so range is 3,1000 with step of 2 to only check odd numbers\n",
    "for i in range(3,1000,2):\n",
    "    for j in range(2,int(i/2)+2):#checking only till half of the number\n",
    "        if(j!=i and i%j!=0):\n",
    "            if(j==int(i/2)+1):\n",
    "                if(i!=3 and i==prime+2): #checking if previous number is also a prime\n",
    "                    print('{0},{1}'.format(prime,i))\n",
    "                prime=i\n",
    "            continue #continue if number is not divisible\n",
    "        else:\n",
    "            break #break if number is divisible   "
   ]
  },
  {
   "cell_type": "code",
   "execution_count": 4,
   "metadata": {},
   "outputs": [
    {
     "name": "stdout",
     "output_type": "stream",
     "text": [
      "enter the number6\n",
      "[2, 3]\n"
     ]
    }
   ],
   "source": [
    "'''3. Write a program to find out the prime factors of a number. Example: prime factors of 56 -\n",
    "2, 2, 2, 7'''\n",
    "\n",
    "n=int(input('enter the number'))\n",
    "a=[] #list to store prime factors\n",
    "for i in range(2,int(n/2)+2):#checking only till half of number to reduce loops\n",
    "    while(n%i==0):#find factors and adding to list\n",
    "        n=n/i\n",
    "        a.append(i)\n",
    "print(a)"
   ]
  },
  {
   "cell_type": "code",
   "execution_count": 5,
   "metadata": {},
   "outputs": [
    {
     "name": "stdout",
     "output_type": "stream",
     "text": [
      "enter n and r to find npr and ncr5 2\n",
      "20.0\n",
      "10.0\n"
     ]
    }
   ],
   "source": [
    "'''4. Write a program to implement these formulae of permutations and combinations.\n",
    "Number of permutations of n objects taken r at a time: p(n, r) = n! / (n-r)!. Number of\n",
    "combinations of n objects taken r at a time is: c(n, r) = n! / (r!*(n-r)!) = p(n,r) / r!'''\n",
    "def p(n,r):\n",
    "    if(n>r):\n",
    "        print(factorial(n)/factorial(n-r))\n",
    "    else:\n",
    "        print('n should be greater than r')\n",
    "def c(n,r):\n",
    "    if(n>r):\n",
    "        print(factorial(n)/(factorial(r)*factorial(n-r)))\n",
    "    else:\n",
    "        print('n should be greater than r')\n",
    "\n",
    "def factorial(n):\n",
    "    if n not in (1,0): return n*factorial(n-1)\n",
    "    return 1\n",
    "n,r=map(lambda a:int(a),input('enter n and r to find npr and ncr').split())#converting entered strings to integers\n",
    "p(n,r)\n",
    "c(n,r)"
   ]
  },
  {
   "cell_type": "code",
   "execution_count": 9,
   "metadata": {},
   "outputs": [
    {
     "name": "stdout",
     "output_type": "stream",
     "text": [
      "enter num5\n",
      "101"
     ]
    }
   ],
   "source": [
    "'''5. Write a function that converts a decimal number to binary number'''\n",
    "def binar(n):\n",
    "    if n>0:\n",
    "        binar(n//2)#finding the quotient\n",
    "        print(n%2,end='')#printing the remainder without going to next line\n",
    "n=int(input('enter num'))\n",
    "binar(n)       "
   ]
  },
  {
   "cell_type": "code",
   "execution_count": 10,
   "metadata": {},
   "outputs": [
    {
     "name": "stdout",
     "output_type": "stream",
     "text": [
      "enter number200\n",
      "200 is not an armstrong number\n",
      "Armstrong numbers till 200:\n",
      "['1', '153']\n"
     ]
    }
   ],
   "source": [
    "'''6. Write a function cubesum() that accepts an integer and returns the sum of the cubes of\n",
    "individual digits of that number. Use this function to make functions PrintArmstrong() and\n",
    "isArmstrong() to print Armstrong numbers and to find whether is an Armstrong number.'''\n",
    "import functools as f\n",
    "def IsArmStrong(n):\n",
    "    '''function to check if number is armstrong'''\n",
    "    a=list(n)\n",
    "    if((f.reduce(lambda a,b:a+b,map(lambda a:(int(a))**3,a)))==int(n)):\n",
    "        return True\n",
    "    return False\n",
    "      # print('{0} is armstrong'.format(n))\n",
    "def PrintArmstrong(n):\n",
    "    '''function to print armstrong numbers till n'''\n",
    "    lst=list(range(1,int(n)+1))\n",
    "    for i in range(0,len(lst)):#converting integers in list to string as argument for IsArmstrrong is string\n",
    "        lst[i]=str(i+1)    \n",
    "    aslst=list(filter(IsArmStrong,lst))\n",
    "    print(aslst)\n",
    "n=input('enter number')\n",
    "if(IsArmStrong(n)):\n",
    "    print('{} is an armstrong number'.format(n))\n",
    "else:\n",
    "    print('{} is not an armstrong number'.format(n))\n",
    "\n",
    "print('Armstrong numbers till {}:'.format(n))\n",
    "PrintArmstrong(n)"
   ]
  },
  {
   "cell_type": "code",
   "execution_count": 11,
   "metadata": {},
   "outputs": [
    {
     "name": "stdout",
     "output_type": "stream",
     "text": [
      "enter the number45\n",
      "20\n"
     ]
    }
   ],
   "source": [
    "'''7. Write a function prodDigits() that inputs a number and returns the product of digits of that\n",
    "number.'''\n",
    "import functools as f\n",
    "def prod(x):\n",
    "    '''function to return product of digits of a number'''\n",
    "    return f.reduce(lambda y,z:int(y*z),map(lambda a:int(a),list(x)))\n",
    "x=input('enter the number')\n",
    "print(prod(x))"
   ]
  },
  {
   "cell_type": "code",
   "execution_count": 12,
   "metadata": {},
   "outputs": [
    {
     "name": "stdout",
     "output_type": "stream",
     "text": [
      "enter the number45\n",
      "MDR and mpersistence are:\n",
      "(0, 2)\n"
     ]
    }
   ],
   "source": [
    "'''8. If all digits of a number n are multiplied by each other repeating with the product, the one\n",
    "digit number obtained at last is called the multiplicative digital root of n. The number of\n",
    "times digits need to be multiplied to reach one digit is called the multiplicative\n",
    "persistance of n.\n",
    "Example: 86 -> 48 -> 32 -> 6 (MDR 6, MPersistence 3)\n",
    " 341 -> 12->2 (MDR 2, MPersistence 2)\n",
    "Using the function prodDigits() of previous exercise write functions MDR() and\n",
    "MPersistence() that input a number and return its multiplicative digital root and\n",
    "multiplicative persistence respectively'''\n",
    "import functools as f\n",
    "def mdr(x):\n",
    "    '''function to return MDR and Mpersistence'''\n",
    "    mper=0\n",
    "    while(len(str(x))!=1):#finding product using reduce till length of digit is 1\n",
    "        x=f.reduce(lambda y,z:int(y*z),map(lambda a:int(a),list(str(x))))\n",
    "        mper+=1\n",
    "    return x,mper\n",
    "x=input('enter the number')\n",
    "print('MDR and mpersistence are:')\n",
    "print(mdr(x))"
   ]
  },
  {
   "cell_type": "code",
   "execution_count": 13,
   "metadata": {},
   "outputs": [
    {
     "name": "stdout",
     "output_type": "stream",
     "text": [
      "enter the number8\n",
      "7\n"
     ]
    }
   ],
   "source": [
    "'''9. Write a function sumPdivisors() that finds the sum of proper divisors of a number. Proper\n",
    "divisors of a number are those numbers by which the number is divisible, except the\n",
    "number itself. For example proper divisors of 36 are 1, 2, 3, 4, 6, 9, 18'''\n",
    "def sumPdivisors(x):\n",
    "    a=0\n",
    "    for i in range(2,int(x/2)+2):#not including 1 since 1 is divisor for all numbers\n",
    "        if(x%i==0):\n",
    "            a=a+i\n",
    "    return a+1 #adding 1 since 1 is also a divisor\n",
    "x=int(input('enter the number'))\n",
    "print(sumPdivisors(x))"
   ]
  },
  {
   "cell_type": "code",
   "execution_count": 14,
   "metadata": {},
   "outputs": [
    {
     "name": "stdout",
     "output_type": "stream",
     "text": [
      "enter two numbers to fix range1 5\n",
      "[1]\n"
     ]
    }
   ],
   "source": [
    "'''10. A number is called perfect if the sum of proper divisors of that number is equal to the\n",
    "number. For example 28 is perfect number, since 1+2+4+7+14=28. Write a program to\n",
    "print all the perfect numbers in a given range'''\n",
    "def sumPdivisors(x):\n",
    "    a=0\n",
    "    for i in range(2,int(x/2)+2):\n",
    "        if(x%i==0):\n",
    "            a=a+i\n",
    "    a=a+1\n",
    "    if(a==x):\n",
    "        return True\n",
    "    return False\n",
    "x,y=map(lambda a:int(a),input('enter two numbers to fix range').split())#converting string nums to integers\n",
    "lst=list(filter(sumPdivisors,list(range(x,y+1))))#creating a list in the range (x,y) and applying filter \n",
    "print(lst)"
   ]
  },
  {
   "cell_type": "code",
   "execution_count": 15,
   "metadata": {},
   "outputs": [
    {
     "name": "stdout",
     "output_type": "stream",
     "text": [
      "enter two numbers to fix range1 500\n",
      "[[220, 284]]\n"
     ]
    }
   ],
   "source": [
    "'''11. Two different numbers are called amicable numbers if the sum of the proper divisors of\n",
    "each is equal to the other number. For example 220 and 284 are amicable numbers.\n",
    "Sum of proper divisors of 220 = 1+2+4+5+10+11+20+22+44+55+110 = 284\n",
    "Sum of proper divisors of 284 = 1+2+4+71+142 = 220\n",
    "Write a function to print pairs of amicable numbers in a range'''\n",
    "def sumPdivisors(x):\n",
    "    a=0\n",
    "    for i in range(2,int(x/2)+2):#not including 1 since 1 is divisor for all numbers\n",
    "        if(x%i==0 and i<x):\n",
    "            a=a+i\n",
    "    return x,a+1 #adding 1 since 1 is also a divisor\n",
    "x,y=map(lambda a:int(a),input('enter two numbers to fix range').split())#converting string nums to integers\n",
    "lst=list(range(x,y+1))#creating range\n",
    "sumdiv=list(map(sumPdivisors,list(range(x,y+1))))#finding sum of divisors for each number in range\n",
    "sumdivrev=[]\n",
    "amic=[]\n",
    "for i in sumdiv:\n",
    "    sumdivrev.append(i[::-1])#reversing each pair in the list\n",
    "for i in sumdiv:\n",
    "    for j in sumdivrev:\n",
    "        if(i==j and i[0]!=i[1]):#checking if a pair exists in reverse list\n",
    "            amic.append([i[0],i[1]])\n",
    "print(amic[::2])#print only 1 item out of 2 in amicable pair"
   ]
  },
  {
   "cell_type": "code",
   "execution_count": 16,
   "metadata": {},
   "outputs": [
    {
     "name": "stdout",
     "output_type": "stream",
     "text": [
      "enter list of numbers1 4 6\n",
      "[1]\n"
     ]
    }
   ],
   "source": [
    "'''12. Write a program which can filter odd numbers in a list by using filter function'''\n",
    "lst=list(map(lambda a:int(a),input('enter list of numbers').split()))#converting string numbers to integer numbers\n",
    "print(list(filter(lambda a:(a%2!=0),lst)))"
   ]
  },
  {
   "cell_type": "code",
   "execution_count": 17,
   "metadata": {},
   "outputs": [
    {
     "name": "stdout",
     "output_type": "stream",
     "text": [
      "enter list of numbers1 6 8\n",
      "[1, 216, 512]\n"
     ]
    }
   ],
   "source": [
    "'''13. Write a program which can map() to make a list whose elements are cube of elements in\n",
    "a given list'''\n",
    "lst=list(map(lambda a:(int(a))**3,input('enter list of numbers').split()))\n",
    "'''converting string numbers to integer numbers and creating their cubes'''\n",
    "print(lst)"
   ]
  },
  {
   "cell_type": "code",
   "execution_count": 18,
   "metadata": {},
   "outputs": [
    {
     "name": "stdout",
     "output_type": "stream",
     "text": [
      "enter list of numbers1 4\n",
      "[64]\n"
     ]
    }
   ],
   "source": [
    "'''14. Write a program which can map() and filter() to make a list whose elements are cube of\n",
    "even number in a given list'''\n",
    "lst=list(map(lambda a:int(a),input('enter list of numbers').split()))#converting string numbers to integer numbers\n",
    "cubeevens=list(map(lambda a:a**3,list(filter(lambda a:a%2==0,lst))))#filtering evens and then cubes through map\n",
    "print(cubeevens)"
   ]
  }
 ],
 "metadata": {
  "kernelspec": {
   "display_name": "Python 3",
   "language": "python",
   "name": "python3"
  },
  "language_info": {
   "codemirror_mode": {
    "name": "ipython",
    "version": 3
   },
   "file_extension": ".py",
   "mimetype": "text/x-python",
   "name": "python",
   "nbconvert_exporter": "python",
   "pygments_lexer": "ipython3",
   "version": "3.7.3"
  }
 },
 "nbformat": 4,
 "nbformat_minor": 2
}
