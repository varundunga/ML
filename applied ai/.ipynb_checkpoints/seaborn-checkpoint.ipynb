{
 "cells": [
  {
   "cell_type": "code",
   "execution_count": null,
   "metadata": {},
   "outputs": [],
   "source": [
    "import seaborn as sns\n",
    "import pandas as pd\n",
    "import matplotlib.pyplot as mp\n",
    "import numpy as np\n",
    "\n",
    "iris=pd.read_csv('https://raw.githubusercontent.com/uiuc-cse/data-fa14/gh-pages/data/iris.csv')\n",
    "print(iris.head())\n",
    "iris_csv=iris.to_csv(r'C:\\Users\\vdunga\\Downloads\\iris.csv',index=False)\n"
   ]
  },
  {
   "cell_type": "code",
   "execution_count": null,
   "metadata": {},
   "outputs": [],
   "source": [
    "# iris=pd.read_csv('C:\\\\Users\\\\vdunga\\\\Downloads\\\\iris.csv')\n",
    "iris=pd.read_csv('https://raw.githubusercontent.com/uiuc-cse/data-fa14/gh-pages/data/iris.csv')\n",
    "mp.figure(1)\n",
    "mp.subplot(221)\n",
    "sns.scatterplot(x='sepal_width',y='petal_width',data=iris)\n",
    "mp.subplot(222)\n",
    "sns.boxplot(x='species',y='petal_width',data=iris)\n",
    "mp.subplot(223)\n",
    "sns.barplot(x='species',y='petal_width',data=iris,hue='species')\n",
    "mp.subplot(224)\n",
    "sns.distplot(iris['sepal_width'])\n",
    "mp.show()\n",
    "\n"
   ]
  },
  {
   "cell_type": "code",
   "execution_count": null,
   "metadata": {},
   "outputs": [],
   "source": [
    "a=[0,1,4,4,5,6]\n",
    "x=np.histogram(a)\n",
    "print(x)\n",
    "sns.distplot(a,bins=10)"
   ]
  },
  {
   "cell_type": "code",
   "execution_count": null,
   "metadata": {},
   "outputs": [],
   "source": [
    "import seaborn as sns\n",
    "import pandas as pd\n",
    "import matplotlib.pyplot as mp\n",
    "import numpy as np\n",
    "\n",
    "headers=['Age','Op_Year','axil_nodes','Surv_status']\n",
    "hb=pd.read_csv('https://raw.githubusercontent.com/uiuc-cse/data-fa14/gh-pages/data/iris.csv',names=headers)\n",
    "surv=hb['Surv_status']\n",
    "surv.replace({1:'success',2:'fail'})\n",
    "hb['Surv_status']=hb['Surv_status'].replace({1:'success',2:'fail'})\n",
    "print(hb.shape)#Total 306 records with 3 independent and 1 dependent variable with 2 classes.\n",
    "print(hb['Surv_status'].value_counts())#225 success and 81 fail shows it as an unbalanced dataset\n",
    "#3d plot analysis\n",
    "import plotly.express as px\n",
    "\n",
    "fig = px.scatter_3d(hb, x='Age', y='Op_Year', z='axil_nodes',\n",
    "              color='Surv_status')\n",
    "fig.show()\n",
    "#Unable to draw any inferences from 3d plot."
   ]
  },
  {
   "cell_type": "code",
   "execution_count": null,
   "metadata": {},
   "outputs": [],
   "source": [
    "#2d plots\n",
    "sns.pairplot(data=hb,hue='Surv_status',height=6)\n",
    "#unable to find any linearly separable variables using pair plots."
   ]
  },
  {
   "cell_type": "code",
   "execution_count": null,
   "metadata": {},
   "outputs": [],
   "source": [
    "#1d plots\n",
    "#pdfs\n",
    "hb_sucess=hb[hb['Surv_status']=='success']\n",
    "hb_fail=hb[hb['Surv_status']=='fail']\n",
    "mp.figure(num=1,figsize=(20,10))\n",
    "mp.subplot(3,3,1)\n",
    "sns.distplot(hb_sucess['Age'],axlabel='Age_Success')\n",
    "mp.subplot(3,3,2)\n",
    "sns.distplot(hb_sucess['axil_nodes'],axlabel='axilnodes_Success')\n",
    "mp.subplot(3,3,3)\n",
    "sns.distplot(hb_sucess['Op_Year'],axlabel='Opyear_Success')\n",
    "mp.subplot(3,3,4)\n",
    "sns.distplot(hb_fail['Age'],axlabel='Age_fail')\n",
    "mp.subplot(3,3,5)\n",
    "sns.distplot(hb_fail['axil_nodes'],axlabel='axilnodes_fail')\n",
    "mp.subplot(3,3,6)\n",
    "sns.distplot(hb_fail['Op_Year'],axlabel='opyear_fail')\n",
    "# mp.subplot(3,3,7)\n",
    "# sns.scatterplot(x='Surv_status',y='Age',data=hb,hue='Surv_status')\n",
    "# mp.subplot(3,3,8)\n",
    "# sns.scatterplot(x='Surv_status',y='axil_nodes',data=hb,hue='Surv_status')\n",
    "# mp.subplot(3,3,9)\n",
    "# sns.scatterplot(y='Surv_status',x='Op_Year',data=hb,hue='Surv_status')\n",
    "mp.show()"
   ]
  },
  {
   "cell_type": "code",
   "execution_count": null,
   "metadata": {},
   "outputs": [],
   "source": [
    "#1d plots\n",
    "#pdfs\n",
    "hb_sucess=hb[hb['Surv_status']=='success']\n",
    "hb_fail=hb[hb['Surv_status']=='fail']\n",
    "mp.figure(num=1,figsize=(20,10))\n",
    "mp.subplot(3,3,1)\n",
    "sns.boxplot(x='Surv_status',y='Age',data=hb)\n",
    "mp.subplot(3,3,2)\n",
    "sns.boxplot(x='Surv_status',y='axil_nodes',data=hb)\n",
    "mp.subplot(3,3,3)\n",
    "sns.boxplot(x='Surv_status',y='Op_Year',data=hb)\n",
    "\n",
    "# mp.subplot(3,3,7)\n",
    "# sns.scatterplot(x='Surv_status',y='Age',data=hb,hue='Surv_status')\n",
    "# mp.subplot(3,3,8)\n",
    "# sns.scatterplot(x='Surv_status',y='axil_nodes',data=hb,hue='Surv_status')\n",
    "# mp.subplot(3,3,9)\n",
    "# sns.scatterplot(y='Surv_status',x='Op_Year',data=hb,hue='Surv_status')\n",
    "mp.show()"
   ]
  }
 ],
 "metadata": {
  "kernelspec": {
   "display_name": "Python 3",
   "language": "python",
   "name": "python3"
  },
  "language_info": {
   "codemirror_mode": {
    "name": "ipython",
    "version": 3
   },
   "file_extension": ".py",
   "mimetype": "text/x-python",
   "name": "python",
   "nbconvert_exporter": "python",
   "pygments_lexer": "ipython3",
   "version": "3.7.3"
  }
 },
 "nbformat": 4,
 "nbformat_minor": 2
}
